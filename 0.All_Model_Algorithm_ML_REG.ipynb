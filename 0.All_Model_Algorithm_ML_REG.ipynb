{
 "cells": [
  {
   "cell_type": "code",
   "execution_count": null,
   "metadata": {},
   "outputs": [],
   "source": [
    "import numpy as np\n",
    "import matplotlib.pyplot as plt\n",
    "import pandas as pd"
   ]
  },
  {
   "cell_type": "code",
   "execution_count": null,
   "metadata": {},
   "outputs": [],
   "source": [
    "dataset=pd.read_csv(\"insurance_pre.csv\")"
   ]
  },
  {
   "cell_type": "code",
   "execution_count": null,
   "metadata": {},
   "outputs": [],
   "source": [
    "dataset"
   ]
  },
  {
   "cell_type": "code",
   "execution_count": null,
   "metadata": {},
   "outputs": [],
   "source": [
    "dataset=pd.get_dummies(dataset,drop_first=True)"
   ]
  },
  {
   "cell_type": "code",
   "execution_count": null,
   "metadata": {},
   "outputs": [],
   "source": [
    "dataset.columns"
   ]
  },
  {
   "cell_type": "code",
   "execution_count": null,
   "metadata": {},
   "outputs": [],
   "source": [
    "independent=dataset[['age', 'bmi', 'children','sex_male','smoker_yes']]"
   ]
  },
  {
   "cell_type": "code",
   "execution_count": null,
   "metadata": {},
   "outputs": [],
   "source": [
    "dependent=dataset[[\"charges\"]]"
   ]
  },
  {
   "cell_type": "code",
   "execution_count": null,
   "metadata": {},
   "outputs": [],
   "source": [
    "from sklearn.model_selection import train_test_split\n",
    "X_train,X_test,y_train,y_test=train_test_split(independent,dependent,test_size=1/3,random_state=0)"
   ]
  },
  {
   "cell_type": "code",
   "execution_count": null,
   "metadata": {},
   "outputs": [],
   "source": [
    "from sklearn.preprocessing import StandardScaler\n",
    "sc=StandardScaler()\n",
    "X_train = sc.fit_transform(X_train)\n",
    "X_test = sc.transform(X_test)"
   ]
  },
  {
   "cell_type": "code",
   "execution_count": null,
   "metadata": {},
   "outputs": [],
   "source": [
    "from sklearn.preprocessing import StandardScaler\n",
    "scy=StandardScaler()\n",
    "y_train = scy.fit_transform(y_train)\n",
    "y_test = sc.transform(y_test)"
   ]
  },
  {
   "cell_type": "code",
   "execution_count": null,
   "metadata": {},
   "outputs": [],
   "source": [
    "# Grid Search CV Support Vector Machine\n",
    "from sklearn.model_selection import GridSearchCV\n",
    "from sklearn.svm import SVR\n",
    "param_grid = {'kernel':['rbf','poly','sigmoid','linear'],'C':[10,100,1000,2000,3000],'gamma':['auto','scale']}\n",
    "grid = GridSearchCV(SVR(),param_grid,refit= True,verbose =3,n_jobs=-1)\n",
    "grid.fit(X_train,y_train)\n",
    "re=grid.cv_results_\n",
    "print(\"The R_score Value for best parameter{}:\",format(grid.best_params_))\n",
    "table=pd.DataFrame.from_dict(re)\n",
    "table\n",
    "age_input =float(input(\"Age:\"))\n",
    "bmi_input =float(input(\"BMI:\"))\n",
    "children_input =float(input(\"Children:\"))\n",
    "sex_male_input =float(input(\"Sex male 0 or 1:\"))\n",
    "smoker_yes_input =float(input(\"Smoker Yes 0 or 1:\"))\n",
    "Future_Prediction=grid.predict([[age_input,bmi_input,children_input,sex_male_input,smoker_yes_input]])\n",
    "print(\"Future_Prediction={}:\".format(Future_Prediction))"
   ]
  },
  {
   "cell_type": "code",
   "execution_count": null,
   "metadata": {},
   "outputs": [],
   "source": [
    "# Grid Search CV DecisionTreeRegressor\n",
    "from sklearn.model_selection import GridSearchCV\n",
    "from sklearn.tree import DecisionTreeRegressor\n",
    "param_grid = {'criterion':['mse','mae','friedman_mse'],'max_features':['auto','sqrt','log2'],'splitter':['best','random']}\n",
    "grid = GridSearchCV(DecisionTreeRegressor(),param_grid,refit= True,verbose =3,n_jobs=-1)\n",
    "grid.fit(X_train,y_train)\n",
    "re=grid.cv_results_\n",
    "grid_predictions = grid.predict(X_test)\n",
    "from sklearan.metrics import r2_score\n",
    "r_score=r2_score(y_test,grid_predictions)\n",
    "print(\"The R_score Value for best parameter{}:\",format(grid.best_params_),r_score)\n",
    "table=pd.DataFrame.from_dict(re)\n",
    "table\n",
    "age_input =float(input(\"Age:\"))\n",
    "bmi_input =float(input(\"BMI:\"))\n",
    "children_input =float(input(\"Children:\"))\n",
    "sex_male_input =float(input(\"Sex male 0 or 1:\"))\n",
    "smoker_yes_input =float(input(\"Smoker Yes 0 or 1:\"))\n",
    "Future_Prediction=grid.predict([[age_input,bmi_input,children_input,sex_male_input,smoker_yes_input]])\n",
    "print(\"Future_Prediction={}:\".format(Future_Prediction))"
   ]
  },
  {
   "cell_type": "code",
   "execution_count": null,
   "metadata": {},
   "outputs": [],
   "source": [
    "# Grid Search CV RandomForestRegressor\n",
    "from sklearn.model_selection import GridSearchCV\n",
    "from sklearn.ensemble import RandomForestRegressor\n",
    "param_grid = {'criterion':['mse','mae',],'max_features':['auto','sqrt','log2'],'n_estimators':[10,100]}\n",
    "grid = GridSearchCV(RandomForestRegressor(),param_grid,refit= True,verbose =3,n_jobs=-1)\n",
    "grid.fit(X_train,y_train)\n",
    "re=grid.cv_results_\n",
    "grid_predictions = grid.predict(X_test)\n",
    "from sklearan.metrics import r2_score\n",
    "r_score=r2_score(y_test,grid_predictions)\n",
    "print(\"The R_score Value for best parameter{}:\",format(grid.best_params_),r_score)\n",
    "table=pd.DataFrame.from_dict(re)\n",
    "table\n",
    "age_input =float(input(\"Age:\"))\n",
    "bmi_input =float(input(\"BMI:\"))\n",
    "children_input =float(input(\"Children:\"))\n",
    "sex_male_input =float(input(\"Sex male 0 or 1:\"))\n",
    "smoker_yes_input =float(input(\"Smoker Yes 0 or 1:\"))\n",
    "Future_Prediction=grid.predict([[age_input,bmi_input,children_input,sex_male_input,smoker_yes_input]])\n",
    "print(\"Future_Prediction={}:\".format(Future_Prediction))"
   ]
  },
  {
   "cell_type": "code",
   "execution_count": null,
   "metadata": {},
   "outputs": [],
   "source": [
    "#Grid Search CV Random forest Regressor with out split Train,Test set\n",
    "from sklearn.model_selection import GridSearchCV\n",
    "from sklearn.ensemble import RandomForestRegressor\n",
    "param_grid = {'criterion':['mse','mae',],'max_features':['auto','sqrt','log2'],'n_estimators':[10,100]}\n",
    "grid = GridSearchCV(RandomForestRegressor(),param_grid,refit= True,verbose =3,n_jobs=-1)\n",
    "grid.fit(independent,dependent)\n",
    "re=grid.cv_results_\n",
    "#grid_predictions = grid.predict(X_test)\n",
    "#from sklearan.metrics import r2_score\n",
    "#r_score=r2_score(y_test,grid_predictions)\n",
    "print(\"The R_score Value for best parameter{}:\",format(grid.best_params_))\n",
    "table=pd.DataFrame.from_dict(re)\n",
    "table\n",
    "age_input =float(input(\"Age:\"))\n",
    "bmi_input =float(input(\"BMI:\"))\n",
    "children_input =float(input(\"Children:\"))\n",
    "sex_male_input =float(input(\"Sex male 0 or 1:\"))\n",
    "smoker_yes_input =float(input(\"Smoker Yes 0 or 1:\"))\n",
    "Future_Prediction=grid.predict([[age_input,bmi_input,children_input,sex_male_input,smoker_yes_input]])\n",
    "print(\"Future_Prediction={}:\".format(Future_Prediction))"
   ]
  },
  {
   "cell_type": "code",
   "execution_count": null,
   "metadata": {},
   "outputs": [],
   "source": [
    "#  Save the model load & test For preprocessed input \n",
    "import pickle\n",
    "fileName=\"finalized_model.sav\"\n",
    "\n",
    "pickle.dump(regressor,open(fileName,'wb'))\n",
    "# store or saving the regressor file /fileName \n",
    "# 'wb' means write  binary values \n",
    "\n",
    "preinput = sc.transform([[1234,345,4565,1,0]])\n",
    "preinput\n",
    "loaded_model=pickle.load(open(\"finalized_model.sav\",'rb'))\n",
    "# check the function  dumped in the pickle , need to load the pickle function from filename \n",
    "# 'rb' means read binary values\n",
    "result=loaded_model.predict(preinput)\n",
    "# predict function () double closesed paranthasise is used for predicting the values for different inputs\n",
    "result"
   ]
  },
  {
   "cell_type": "code",
   "execution_count": null,
   "metadata": {},
   "outputs": [],
   "source": [
    "# DecisionTreeRegressor with out Grid\n",
    "\n",
    "from sklearn.tree import DecisionTreeRegressor\n",
    "#To reduce the memory import perticular small function(LinearRegression) from library (sklearn) ,Class (linear_model)\n",
    "regressor=DecisionTreeRegressor(criterion='mae',splitter=\"best\",max_features=\"auto\")\n",
    "#function()assigned to variable 1 for calling the function.\n",
    "regressor.fit(X_train,y_train)\n",
    "# Training set of X & Y  is feed into regressor for training\n",
    "import matplotlib.pyplot as plt\n",
    "from sklearn import tree\n",
    "tree.plot_tree(regressor)\n",
    "plt.show()\n",
    "y_pred=regressor.predict(X_test)\n",
    "# output prediction is assigned from regressor function And change with respect to X test\n",
    "from sklearn.metrics import r2_score\n",
    "#Import function r2_score from metrics class and sklearn library\n",
    "r_score=r2_score(y_test,y_pred)\n",
    "# to find r2_score value from outputof Test set(y_test), predicted output (y_pred)\n",
    "r_score"
   ]
  },
  {
   "cell_type": "code",
   "execution_count": null,
   "metadata": {},
   "outputs": [],
   "source": [
    "#deployment for preprocessed input\n",
    "import pickle\n",
    "import pandas as pd\n",
    "dataset=pd.read_csv(\"insurance_pre.csv\")\n",
    "dataset=pd.get_dummies(dataset,drop_first=True)\n",
    "independent=dataset[['age', 'bmi', 'children','sex_male','smoker_yes']]\n",
    "dependent=dataset[[\"charges\"]]\n",
    "from sklearn.model_selection import train_test_split\n",
    "X_train,X_test,y_train,y_test=train_test_split(independent,dependent,test_size=1/3,random_state=0)\n",
    "from sklearn.preprocessing import StandardScaler\n",
    "sc=StandardScaler()\n",
    "X_train = sc.fit_transform(X_train)\n",
    "X_test = sc.transform(X_test)\n",
    "preinput = sc.transform([[1234,345,4565,1,0]])\n",
    "preinput\n",
    "loaded_model=pickle.load(open(\"finalized_model.sav\",'rb'))\n",
    "# check the function  dumped in the pickle , need to load the pickle function from filename \n",
    "# 'rb' means read binary values\n",
    "result=loaded_model.predict(preinput)\n",
    "# predict function () double closesed paranthasise is used for predicting the values for different inputs\n",
    "result\n"
   ]
  },
  {
   "cell_type": "code",
   "execution_count": null,
   "metadata": {},
   "outputs": [],
   "source": [
    "#Save the model load & test for preprocessed input and output\n",
    "import pickle\n",
    "fileName=\"finalized_model.sav\"\n",
    "pickle.dump(regressor,open(fileName,'wb'))\n",
    "preinput = sc.transform([[1234,345,4565,1,0]])\n",
    "preinput\n",
    "\n",
    "loaded_model=pickle.load(open(\"finalized_model.sav\",'rb'))\n",
    "result=loaded_model.predict(preinput)\n",
    "# predict function () double closesed paranthasise is used for predicting the values for different inputs\n",
    "result\n",
    "preoutput = scy.inverse_transform([result])\n",
    "preoutput"
   ]
  },
  {
   "cell_type": "code",
   "execution_count": null,
   "metadata": {},
   "outputs": [],
   "source": [
    "#deployment for preprocessed input and Output\n",
    "import pickle\n",
    "import pandas as pd\n",
    "dataset=pd.read_csv(\"insurance_pre.csv\")\n",
    "dataset=pd.get_dummies(dataset,drop_first=True)\n",
    "independent=dataset[['age', 'bmi', 'children','sex_male','smoker_yes']]\n",
    "dependent=dataset[[\"charges\"]]\n",
    "from sklearn.model_selection import train_test_split\n",
    "X_train,X_test,y_train,y_test=train_test_split(independent,dependent,test_size=1/3,random_state=0)\n",
    "#input pre process\n",
    "from sklearn.preprocessing import StandardScaler\n",
    "sc=StandardScaler()\n",
    "X_train = sc.fit_transform(X_train)\n",
    "X_test = sc.transform(X_test)\n",
    "# output preprocess\n",
    "from sklearn.preprocessing import StandardScaler\n",
    "scy=StandardScaler()\n",
    "y_train = scy.fit_transform(y_train)\n",
    "y_test = sc.transform(y_test)\n",
    "# User input preprocess\n",
    "preinput = sc.transform([[1234,345,4565,1,0]])\n",
    "preinput\n",
    "loaded_model=pickle.load(open(\"finalized_model.sav\",'rb'))\n",
    "# check the function  dumped in the pickle , need to load the pickle function from filename \n",
    "# 'rb' means read binary values\n",
    "result=loaded_model.predict(preinput)\n",
    "# predict function () double closesed paranthasise is used for predicting the values for different inputs\n",
    "result\n",
    "# Output Inverse to preprocess\n",
    "preoutput = scy.inverse_transform([result])\n",
    "preoutput"
   ]
  }
 ],
 "metadata": {
  "kernelspec": {
   "display_name": "Python 3",
   "language": "python",
   "name": "python3"
  },
  "language_info": {
   "codemirror_mode": {
    "name": "ipython",
    "version": 3
   },
   "file_extension": ".py",
   "mimetype": "text/x-python",
   "name": "python",
   "nbconvert_exporter": "python",
   "pygments_lexer": "ipython3",
   "version": "3.7.4"
  }
 },
 "nbformat": 4,
 "nbformat_minor": 2
}
